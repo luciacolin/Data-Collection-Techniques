{
 "cells": [
  {
   "cell_type": "markdown",
   "id": "5920aa12",
   "metadata": {},
   "source": [
    "<img src=\"logounav.png\" width=\"150\" img style=\"float: right;\"> \n",
    "\n",
    "**Development of a function for searching information on Stack Overflow.**<br>\n",
    "Author: Lucía Colín Cosano"
   ]
  },
  {
   "cell_type": "markdown",
   "id": "15c0697d",
   "metadata": {},
   "source": [
    "\n",
    "Definition of the necessary libraries."
   ]
  },
  {
   "cell_type": "code",
   "execution_count": 25,
   "id": "150325d4",
   "metadata": {},
   "outputs": [],
   "source": [
    "from bs4 import BeautifulSoup\n",
    "\n",
    "from selenium import webdriver\n",
    "from selenium.webdriver.chrome.service import Service\n",
    "from selenium.webdriver.common.keys import Keys\n",
    "from webdriver_manager.chrome import ChromeDriverManager\n",
    "from selenium.webdriver.common.by import By\n",
    "from selenium.webdriver.support import expected_conditions as ec\n",
    "from selenium.webdriver.support.wait import WebDriverWait\n",
    "\n",
    "import re\n",
    "import pandas as pd, numpy as np\n",
    "import time\n",
    "from time import gmtime, strftime\n",
    "\n",
    "from selenium.common.exceptions import (ElementNotSelectableException, ElementNotVisibleException, NoSuchElementException,TimeoutException, WebDriverException, WebDriverException)"
   ]
  },
  {
   "cell_type": "markdown",
   "id": "54dc2c29",
   "metadata": {},
   "source": [
    "A function is defined to log in with a username and password on Stack Overflow."
   ]
  },
  {
   "cell_type": "code",
   "execution_count": 26,
   "id": "7cf4fed1",
   "metadata": {},
   "outputs": [],
   "source": [
    "import logging\n",
    "logger = logging.getLogger()\n",
    "\n",
    "def login():\n",
    "    try:\n",
    "        wait.until(ec.visibility_of_element_located((By.CSS_SELECTOR, \"nav[class='h100 ml-auto overflow-x-auto pr12']\")))\n",
    "\n",
    "        login_button = browser.find_element(By.CSS_SELECTOR, \"a[data-gps-track='login.click']\")\n",
    "\n",
    "        login_button.click()\n",
    "\n",
    "    except (NoSuchElementException, TimeoutException) as ex:\n",
    "        print(\"Excepción al hacer login stack overflow: \", type(ex))\n",
    "        browser.quit()"
   ]
  },
  {
   "cell_type": "code",
   "execution_count": 27,
   "id": "587a019b",
   "metadata": {},
   "outputs": [],
   "source": [
    "def acceso_cuenta():\n",
    "    try:\n",
    "        wait.until(ec.visibility_of_element_located((By.CSS_SELECTOR, \"input[id='email']\")))\n",
    "\n",
    "        username = browser.find_element(By.CSS_SELECTOR, \"input[id='email']\")\n",
    "\n",
    "        wait.until(ec.visibility_of_element_located((By.CSS_SELECTOR, \"input[id='password']\")))\n",
    "\n",
    "        password = browser.find_element(By.CSS_SELECTOR, \"input[id='password']\")\n",
    "\n",
    "        username.clear()\n",
    "\n",
    "        password.clear()\n",
    "\n",
    "        username.send_keys(usuario)\n",
    "\n",
    "        password.send_keys(clave)\n",
    "\n",
    "        wait.until(ec.visibility_of_element_located((By.CSS_SELECTOR, \"button[id='submit-button']\")))\n",
    "\n",
    "        login_button = browser.find_element(By.CSS_SELECTOR, \"button[id='submit-button']\")\n",
    "\n",
    "        login_button.click()\n",
    "\n",
    "    except (NoSuchElementException, TimeoutException) as ex:\n",
    "\n",
    "        print(\"Exception when trying to access my Stack Overflow account: \", type(ex))\n",
    "        browser.quit()"
   ]
  },
  {
   "cell_type": "markdown",
   "id": "5b5a7456",
   "metadata": {},
   "source": [
    "A function is defined that accepts the cookies on the Stack Overflow page."
   ]
  },
  {
   "cell_type": "code",
   "execution_count": 28,
   "id": "2e43d8cd",
   "metadata": {},
   "outputs": [],
   "source": [
    "def accept_cookies_stackoverflow():\n",
    "\n",
    "    try:\n",
    "\n",
    "        wait.until(ec.visibility_of_element_located((By.CSS_SELECTOR,\"button[class='flex--item s-btn s-btn__primary js-accept-cookies js-consent-banner-hide']\")))\n",
    "\n",
    "        cookies_button = browser.find_element(By.CSS_SELECTOR,\"button[class='flex--item s-btn s-btn__primary js-accept-cookies js-consent-banner-hide']\")\n",
    "\n",
    "        cookies_button.click()\n",
    "\n",
    "    except (NoSuchElementException, TimeoutException) as ex:\n",
    "\n",
    "        print(\"Exception when accepting Stack Overflow cookies: \", type(ex))\n",
    "        browser.quit()"
   ]
  },
  {
   "cell_type": "markdown",
   "id": "b35873dc",
   "metadata": {},
   "source": [
    "The function get_SOS_help is defined, which first clicks on the search button. Once on the search page, it inputs the value of the function's argument (the error), which contains the error you want to search for.\n",
    "\n",
    "Once the search has been initiated, the page returns all existing results. In this case, the one of interest is the one with the highest score. Stack Overflow allows sorting by scores. It accesses that button and clicks it to obtain these ranked responses.\n",
    "\n",
    "Finally, the desired response is accessed with a CSS selector and type \"a[href].\""
   ]
  },
  {
   "cell_type": "code",
   "execution_count": 29,
   "id": "8103a362",
   "metadata": {},
   "outputs": [],
   "source": [
    "def get_SOS_help(error):\n",
    "\n",
    "        time.sleep(2)\n",
    "\n",
    "        find_error = browser.find_element(By.CSS_SELECTOR, \"input[role='combobox']\")\n",
    "        find_error.send_keys(str(error))\n",
    "        find_error.send_keys(Keys.RETURN)\n",
    "\n",
    "        time.sleep(2)\n",
    "\n",
    "        more_button = browser.find_element(By.CSS_SELECTOR,\"button[class='s-btn s-btn__muted s-btn__outlined s-btn__dropdown blr0 brr-sm js-dropdown-toggle']\")\n",
    "        more_button.click()\n",
    "\n",
    "        time.sleep(2)\n",
    "\n",
    "        select_score_button = browser.find_element(By.CSS_SELECTOR, \"a[title='Highest scored search results']\")\n",
    "        select_score_button.click()\n",
    "\n",
    "        time.sleep(3)\n",
    "\n",
    "        list_solutions = browser.find_elements(By.CSS_SELECTOR, \"a[href]\")\n",
    "        solution_selected = list_solutions[43]\n",
    "        solution_selected.send_keys(Keys.RETURN)\n",
    "\n",
    "        list_html = browser.find_elements(By.CSS_SELECTOR, \"div[class='s-prose js-post-body']\")\n",
    "        soup = BeautifulSoup(str(list_html[1].text), 'html.parser')\n",
    "        print(soup)\n"
   ]
  },
  {
   "cell_type": "markdown",
   "id": "a7a07e68",
   "metadata": {},
   "source": [
    "Once the functions are defined, the development of the main program begins. In it, the previously defined functions are executed, and three inputs are declared: the first two request the user's credentials, and the third one requires entering the error to be searched in string format.\n",
    "\n",
    "It's worth noting that when the Stack Overflow page requests human verification through image classification, it's necessary to close the program and run it again."
   ]
  },
  {
   "cell_type": "code",
   "execution_count": 30,
   "id": "83a4ae9e",
   "metadata": {},
   "outputs": [
    {
     "name": "stdout",
     "output_type": "stream",
     "text": [
      "Introduzca su usuario:savetg\n",
      "Introduzca su contraseña:gaveb\n"
     ]
    },
    {
     "name": "stderr",
     "output_type": "stream",
     "text": [
      "C:\\Users\\lulac\\AppData\\Local\\Temp\\ipykernel_28868\\554554412.py:6: DeprecationWarning: executable_path has been deprecated, please pass in a Service object\n",
      "  browser = webdriver.Chrome(ChromeDriverManager().install())\n",
      "C:\\Users\\lulac\\AppData\\Local\\Temp\\ipykernel_28868\\554554412.py:17: DeprecationWarning: executable_path has been deprecated, please pass in a Service object\n",
      "  browser = webdriver.Chrome(\"yourpath/chromedriver.exe\", options=option)\n"
     ]
    },
    {
     "name": "stdout",
     "output_type": "stream",
     "text": [
      "Introduzca el error que desea buscar:css selector\n",
      "Implementation\n",
      "There are three different implementations: pseudo-elements, pseudo-classes, and nothing.\n",
      "WebKit, Blink (Safari, Google Chrome, Opera 15+) and Microsoft Edge are using a pseudo-element: ::-webkit-input-placeholder. [Ref]\n",
      "Mozilla Firefox 4 to 18 is using a pseudo-class: :-moz-placeholder (one colon). [Ref]\n",
      "Mozilla Firefox 19+ is using a pseudo-element: ::-moz-placeholder, but the old selector will still work for a while. [Ref]\n",
      "Internet Explorer 10 and 11 are using a pseudo-class: :-ms-input-placeholder. [Ref]\n",
      "April 2017: Most modern browsers support the simple pseudo-element ::placeholder [Ref]\n",
      "Internet Explorer 9 and lower does not support the placeholder attribute at all, while Opera 12 and lower do not support any CSS selector for placeholders.\n",
      "The discussion about the best implementation is still going on. Note the pseudo-elements act like real elements in the Shadow DOM. A padding on an input will not get the same background color as the pseudo-element.\n",
      "CSS selectors\n",
      "User agents are required to ignore a rule with an unknown selector. See Selectors Level 3:\n",
      "a group of selectors containing an invalid selector is invalid.\n",
      "So we need separate rules for each browser. Otherwise the whole group would be ignored by all browsers.\n",
      "::-webkit-input-placeholder { /* WebKit, Blink, Edge */\n",
      "    color:    #909;\n",
      "}\n",
      ":-moz-placeholder { /* Mozilla Firefox 4 to 18 */\n",
      "   color:    #909;\n",
      "   opacity:  1;\n",
      "}\n",
      "::-moz-placeholder { /* Mozilla Firefox 19+ */\n",
      "   color:    #909;\n",
      "   opacity:  1;\n",
      "}\n",
      ":-ms-input-placeholder { /* Internet Explorer 10-11 */\n",
      "   color:    #909;\n",
      "}\n",
      "::-ms-input-placeholder { /* Microsoft Edge */\n",
      "   color:    #909;\n",
      "}\n",
      "\n",
      "::placeholder { /* Most modern browsers support this now. */\n",
      "   color:    #909;\n",
      "}\n",
      "<input placeholder=\"Stack Snippets are awesome!\"/>\n",
      "Run code snippetExpand snippet\n",
      "Usage notes\n",
      "Be careful to avoid bad contrasts. Firefox's placeholder appears to be defaulting with a reduced opacity, so needs to use opacity: 1 here.\n",
      "Note that placeholder text is just cut off if it doesn’t fit – size your input elements in em and test them with big minimum font size settings. Don’t forget translations: some languages need more room for the same word.\n",
      "Browsers with HTML support for placeholder but without CSS support for that (like Opera) should be tested too.\n",
      "Placeholders are no replacement for labels, so make sure you have a label, too\n",
      "Some browsers use additional default CSS for some input types (email, search). These might affect the rendering in unexpected ways. Use the properties -webkit-appearance and -moz-appearance to change that. Example:\n",
      "    [type=\"search\"] {\n",
      "        -moz-appearance:    textfield;\n",
      "        -webkit-appearance: textfield;\n",
      "        appearance: textfield;\n",
      "    }\n"
     ]
    }
   ],
   "source": [
    "username = input('Enter your username:')\n",
    "password = input('Enter your password:')\n",
    "# username = 'lulascraper7@gmail.com'\n",
    "# password = 'DataCollectionTechniques7'\n",
    "\n",
    "browser = webdriver.Chrome(ChromeDriverManager().install())\n",
    "\n",
    "options = webdriver.ChromeOptions()\n",
    "options.add_argument(\"--incognito\")\n",
    "chrome_prefs = {}\n",
    "options.experimental_options[\"prefs\"] = chrome_prefs\n",
    "chrome_prefs[\"profile.default_content_settings\"] = {\"images\": 1}\n",
    "chrome_prefs[\"profile.managed_default_content_settings\"] = {\"images\": 1}\n",
    "\n",
    "browser = webdriver.Chrome(\"yourpath/chromedriver.exe\", options=options)\n",
    "wait = WebDriverWait(browser, 10)\n",
    "\n",
    "browser.get('https://stackoverflow.com/')\n",
    "login()\n",
    "accept_cookies_stackoverflow()\n",
    "actual_site = access_account()\n",
    "\n",
    "error = input('Enter the error you want to search for:')\n",
    "get_SOS_help(error)\n",
    "\n",
    "time.sleep(300)"
   ]
  }
 ],
 "metadata": {
  "kernelspec": {
   "display_name": "Python 3 (ipykernel)",
   "language": "python",
   "name": "python3"
  },
  "language_info": {
   "codemirror_mode": {
    "name": "ipython",
    "version": 3
   },
   "file_extension": ".py",
   "mimetype": "text/x-python",
   "name": "python",
   "nbconvert_exporter": "python",
   "pygments_lexer": "ipython3",
   "version": "3.11.4"
  }
 },
 "nbformat": 4,
 "nbformat_minor": 5
}

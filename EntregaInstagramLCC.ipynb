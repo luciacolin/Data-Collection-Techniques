{
 "cells": [
  {
   "cell_type": "markdown",
   "id": "f6b0a0d4",
   "metadata": {},
   "source": [
    "# DATA COLLECTION FROM INSTAGRAM\n",
    "### FINAL PROJECT FOR DATA COLLECTION TECHNIQUES - LUCÍA COLÍN COSANO"
   ]
  },
  {
   "cell_type": "markdown",
   "id": "bae0d32e",
   "metadata": {},
   "source": [
    "Firstly, we import the necessary libraries"
   ]
  },
  {
   "cell_type": "code",
   "execution_count": 7,
   "id": "8d97ffec",
   "metadata": {},
   "outputs": [],
   "source": [
    "import json\n",
    "from lxml import html\n",
    "import re\n",
    "import csv\n",
    "import numpy as np\n",
    "\n",
    "from selenium import webdriver\n",
    "import time\n",
    "import os\n",
    "import time\n",
    "import requests\n",
    "from pprint import pprint\n",
    "from bs4 import BeautifulSoup\n",
    "import pandas as pd\n",
    "\n",
    "from selenium import webdriver\n",
    "from selenium.webdriver.common.action_chains import ActionChains\n",
    "from selenium.webdriver.remote.webelement import WebElement\n",
    "from selenium.webdriver.common.by import By\n",
    "from selenium.webdriver.common.keys import Keys\n",
    "from selenium.webdriver.support import expected_conditions as EC\n",
    "from selenium.webdriver.support.ui import WebDriverWait\n",
    "from selenium.webdriver.chrome.options import Options\n",
    "from selenium.common.exceptions import (NoSuchElementException,TimeoutException,WebDriverException,)"
   ]
  },
  {
   "cell_type": "markdown",
   "id": "b22775e0",
   "metadata": {},
   "source": [
    " Chrome driver is set up. "
   ]
  },
  {
   "cell_type": "code",
   "execution_count": 8,
   "id": "365e3b57",
   "metadata": {},
   "outputs": [
    {
     "name": "stderr",
     "output_type": "stream",
     "text": [
      "C:\\Users\\lulac\\AppData\\Local\\Temp\\ipykernel_1580\\1192129472.py:22: DeprecationWarning: executable_path has been deprecated, please pass in a Service object\n",
      "  driver = webdriver.Chrome(executable_path = executable_path,chrome_options = chrome_options,)\n",
      "C:\\Users\\lulac\\AppData\\Local\\Temp\\ipykernel_1580\\1192129472.py:22: DeprecationWarning: use options instead of chrome_options\n",
      "  driver = webdriver.Chrome(executable_path = executable_path,chrome_options = chrome_options,)\n"
     ]
    }
   ],
   "source": [
    "WAIT_TIME = 10\n",
    "\n",
    "# Chrome driver should be in\n",
    "executable_path=os.path.join('C:/Program Files/Google/Chrome/chromedriver')\n",
    "\n",
    "options = webdriver.ChromeOptions()\n",
    "options.add_argument('--ignore-certificate-errors')\n",
    "options.add_argument('--disable-notifications')\n",
    "\n",
    "preferences = {\n",
    "    \"profile.default_content_setting_values.notifications\" : 1,\n",
    "    \"profile.default_content_setting_values.location\": 1,\n",
    "    \"profile.managed_default_content_settings.images\": 1,\n",
    "    }\n",
    "options.add_experimental_option(\"prefs\", preferences)\n",
    "\n",
    "chrome_options = Options()\n",
    "chrome_options.add_argument(\"--disable-infobars\")\n",
    "chrome_options.add_argument(\"--disable-extensions\")\n",
    "chrome_options.add_argument(\"--disable-popup-blocking\")\n",
    "\n",
    "driver = webdriver.Chrome(executable_path = executable_path,chrome_options = chrome_options,)"
   ]
  },
  {
   "cell_type": "markdown",
   "id": "b67e9638",
   "metadata": {},
   "source": [
    "En ocasiones se muestra el error de la imagen inferior, que se soluciona añadiendo la siguiente instrucción:\n",
    "    \n",
    "driver = webdriver.Chrome(ChromeDriverManager().install())"
   ]
  },
  {
   "cell_type": "markdown",
   "id": "9ed12f9f",
   "metadata": {},
   "source": [
    "<img src=\"error1.png\">"
   ]
  },
  {
   "cell_type": "markdown",
   "id": "5b34ab19",
   "metadata": {},
   "source": [
    "Se maximiza la pantalla para trabajar mejor. El número 20 define un tiempo de espera."
   ]
  },
  {
   "cell_type": "code",
   "execution_count": 9,
   "id": "08b4d3a8",
   "metadata": {},
   "outputs": [],
   "source": [
    "driver.maximize_window()\n",
    "driver.implicitly_wait(20) "
   ]
  },
  {
   "cell_type": "markdown",
   "id": "a1823bdb",
   "metadata": {},
   "source": [
    "Una vez se ha abierto el navegador se define de que url se desean obtener los datos. En este caso el objetivo es poder sacar datos a partir de un hashtag de instagram."
   ]
  },
  {
   "cell_type": "code",
   "execution_count": 10,
   "id": "f1d10963",
   "metadata": {},
   "outputs": [],
   "source": [
    "driver.wait = WebDriverWait(driver, WAIT_TIME)\n",
    "url = 'https://www.instagram.com/?hl=es'\n",
    "driver.get(url)"
   ]
  },
  {
   "cell_type": "markdown",
   "id": "b1510ba1",
   "metadata": {},
   "source": [
    "Una vez se entra en instagram es necesario aceptar las cookies."
   ]
  },
  {
   "cell_type": "code",
   "execution_count": 11,
   "id": "3d2e7f5d",
   "metadata": {},
   "outputs": [],
   "source": [
    "cookies_button = driver.find_element(By.CSS_SELECTOR,\"button[class='_a9-- _a9_1']\")\n",
    "cookies_button.click()\n",
    "time.sleep(1)"
   ]
  },
  {
   "cell_type": "markdown",
   "id": "6b8ff48a",
   "metadata": {},
   "source": [
    "Se definen tanto usuario como contraseña. Se definen un comentarios unos input que se podria utilizar para pedir al usuario que introduzca sus credenciales. En este caso se dan directament escritas para comprobar el funcionamiento.\n",
    "\n",
    "Se busca el boton en el que se ha de pulsar para introducir las credenciales y se inicia sesion."
   ]
  },
  {
   "cell_type": "code",
   "execution_count": 12,
   "id": "11362d93",
   "metadata": {},
   "outputs": [],
   "source": [
    "USERNAME = 'lccunav'\n",
    "PASSWORD = 'Tecnicadereccogidadedatos7'\n",
    "#USERNAME = input('Introduzca su usuario:')\n",
    "#PASSWORD= input('Introduzca su contraseña:')\n",
    "\n",
    "usr = WebDriverWait(driver, WAIT_TIME).until(EC.element_to_be_clickable((By.NAME, \"username\")))\n",
    "usr.send_keys(USERNAME)\n",
    "\n",
    "password = WebDriverWait(driver, WAIT_TIME).until(EC.element_to_be_clickable((By.NAME, \"password\")))\n",
    "password.send_keys(PASSWORD)\n",
    "time.sleep(4)"
   ]
  },
  {
   "cell_type": "markdown",
   "id": "09dfb932",
   "metadata": {},
   "source": [
    "El siguiente error encontrado se debe a la definicion de las funciones que proporciona selenium para la seleccion de elementos. \n",
    "Estas antes seguian el siguiente formato: driver.find_elements_by_css_selector, driver.find_elements_by_xpath.\n",
    "Esta libreria ha evolucionado, generalizando esta función a **driver.find_elements()** y el primer argumento de la funcion es el que determina que tipo de busqueda se quiere realizar.\n",
    "\n",
    "Es necesario impotar **from selenium.webdriver.common.by import By**.\n",
    "Dos ejemplos de implementación utilizados son:\n",
    "\n",
    "- driver.find_element(By.CSS_SELECTOR,\"button[class='_a9-- _a9_1']\")\n",
    "- driver.find_element(By.XPATH, '//button[text()=\"._9AH\"]')"
   ]
  },
  {
   "cell_type": "markdown",
   "id": "aa4e510a",
   "metadata": {},
   "source": [
    "<img src=\"error2.png\">"
   ]
  },
  {
   "cell_type": "code",
   "execution_count": 13,
   "id": "ee821491",
   "metadata": {},
   "outputs": [],
   "source": [
    "driver.find_elements(By.CSS_SELECTOR,('button'))[1].click()\n",
    "time.sleep(2)"
   ]
  },
  {
   "cell_type": "markdown",
   "id": "317bd192",
   "metadata": {},
   "source": [
    "Una vez se inicia sesion, aparece un recuadro sobre si se desea guardar la información, y se pulsa el boton de \"Ahora no\". Y con la activación de las notificaciones igual. "
   ]
  },
  {
   "cell_type": "code",
   "execution_count": 14,
   "id": "cd9dbae6",
   "metadata": {},
   "outputs": [],
   "source": [
    "WebDriverWait(driver, 10).until(EC.element_to_be_clickable((By.CSS_SELECTOR, \"button[class='_acan _acap _acas _aj1-']\")))\n",
    "guardar_info_button=driver.find_element(By.CSS_SELECTOR,\"button[class='_acan _acap _acas _aj1-']\")\n",
    "guardar_info_button.click()\n",
    "time.sleep(2)\n",
    "\n",
    "WebDriverWait(driver, 10).until(EC.element_to_be_clickable((By.CSS_SELECTOR,\"button[class='_a9-- _a9_1']\")))\n",
    "notificaciones_button=driver.find_element(By.CSS_SELECTOR,\"button[class='_a9-- _a9_1']\")\n",
    "notificaciones_button.click()\n",
    "time.sleep(5)"
   ]
  },
  {
   "cell_type": "markdown",
   "id": "823b0250",
   "metadata": {},
   "source": [
    "Se define el hashtag que se desean scrapear y se busca la barra de busqueda de instagram."
   ]
  },
  {
   "cell_type": "code",
   "execution_count": 15,
   "id": "d19e121f",
   "metadata": {},
   "outputs": [],
   "source": [
    "HASHTAG='#mundialqatar2022'\n",
    "\n",
    "WebDriverWait(driver, 10).until(EC.element_to_be_clickable((By.CSS_SELECTOR,\"a[href='#']\")))\n",
    "busqueda_button=driver.find_element(By.CSS_SELECTOR,\"a[href='#']\")\n",
    "busqueda_button.click()\n",
    "\n",
    "WebDriverWait(driver, 10).until(EC.element_to_be_clickable((By.CSS_SELECTOR,\"input[aria-label='Buscar entrada']\")))\n",
    "intro_hashtag=driver.find_element(By.CSS_SELECTOR,\"input[aria-label='Buscar entrada']\")\n",
    "intro_hashtag.clear()\n",
    "intro_hashtag.send_keys(HASHTAG)\n",
    "time.sleep(5)\n",
    "intro_hashtag.send_keys(Keys.ENTER)\n",
    "time.sleep(5)\n",
    "intro_hashtag.send_keys(Keys.ENTER)\n",
    "time.sleep(5)"
   ]
  },
  {
   "cell_type": "markdown",
   "id": "85c8a68b",
   "metadata": {},
   "source": [
    "Una vez nos encontramos con las publicaciones correspondientes al hashtag seleccionado, se quiere obtener el link de la publicacion, el usuario que publica, la localizacion (que en númerosas ocasiones no está disponible), el tiempo desde que se realizó la publicación, el número de likes y finalmente el pie de foto."
   ]
  },
  {
   "cell_type": "code",
   "execution_count": 16,
   "id": "8158d063",
   "metadata": {},
   "outputs": [
    {
     "name": "stdout",
     "output_type": "stream",
     "text": [
      "45\n"
     ]
    }
   ],
   "source": [
    "enlace_post = driver.find_elements(By.TAG_NAME,'a')\n",
    "post = [i.get_attribute('href') for i in enlace_post]\n",
    "print(len(post))\n",
    "\n",
    "url_post=[]\n",
    "for i in post:\n",
    "    if '/p/' in i:\n",
    "        url_post.append(i)  "
   ]
  },
  {
   "cell_type": "markdown",
   "id": "be544bc4",
   "metadata": {},
   "source": [
    "Se recorren las url de las publicaciones que se han obtenido y en el siguiente bucle se accede a cada post para obtener la información correspondiente. Además se define el número de publicaciones de las que se desea obtener la info. Se recomienda que este no sea muy elevado ya que conllevaria altos tiempos de espera."
   ]
  },
  {
   "cell_type": "code",
   "execution_count": 17,
   "id": "4dead21b",
   "metadata": {},
   "outputs": [],
   "source": [
    "users=[] #usuarios de los post\n",
    "times=[] #fecha en la que se publicó el post\n",
    "locations=[] #localizaciones de los post\n",
    "likes=[] #numero de likes\n",
    "pie=[] #pie de foto\n",
    "\n",
    "num_publi_deseadas=4\n",
    "\n",
    "#for i in url_post:\n",
    "for i in url_post[0:num_publi_deseadas]:\n",
    "\n",
    "    driver.get(i)\n",
    "    \n",
    "    #Para obtener los usuarios en una lista\n",
    "    try:\n",
    "        users.append(driver.find_element(By.CSS_SELECTOR, \"a[class='x1i10hfl xjbqb8w x6umtig x1b1mbwd xaqea5y xav7gou x9f619 x1ypdohk xt0psk2 xe8uvvx xdj266r x11i5rnm xat24cr x1mh8g0r xexx8yu x4uap5 x18d9i69 xkhd6sd x16tdsg8 x1hl2dhg xggy1nq x1a2a7pz _acan _acao _acat _acaw _aj1- _a6hd']\").text)\n",
    "    except NoSuchElementException:\n",
    "        users.append(\"Publicación no disponible\")\n",
    "        \n",
    "    #Para obtener las localizaciones en una lista    \n",
    "    try:\n",
    "        locations.append(driver.find_element(By.CSS_SELECTOR, \"a[class='x1i10hfl xjbqb8w x6umtig x1b1mbwd xaqea5y xav7gou x9f619 x1ypdohk xt0psk2 xe8uvvx xdj266r x11i5rnm xat24cr x1mh8g0r xexx8yu x4uap5 x18d9i69 xkhd6sd x16tdsg8 x1hl2dhg xggy1nq x1a2a7pz _aaqk _a6hd']\").text)\n",
    "    except:\n",
    "        locations.append(\" \")\n",
    "        \n",
    "    #Para obtener el tiempo transcurrido desde que se publicó en una lista    \n",
    "    try:\n",
    "        times.append(driver.find_element(By.CSS_SELECTOR,\"time[class='_aaqe']\").text)     \n",
    "    except:\n",
    "        times.append(\"Publicación no disponible\")  \n",
    "    \n",
    "    #Para obtener el número de likes que hay en cada publicación en una lista\n",
    "    try:\n",
    "        likes.append(driver.find_element(By.CSS_SELECTOR,\"div[class='_aacl _aaco _aacw _aacx _aada _aade']\").text)\n",
    "    except:\n",
    "        likes.append(' ')\n",
    "        \n",
    "    #Para obtener el pie de foto en una lista\n",
    "    try:\n",
    "        pie.append(driver.find_element(By.CSS_SELECTOR,\"div[class='_a9zr']\").text)\n",
    "    except:\n",
    "        pie.append(' ')\n",
    "    time.sleep(3)"
   ]
  },
  {
   "cell_type": "markdown",
   "id": "1f4e46a9",
   "metadata": {},
   "source": [
    "Finalmente se crea el dataframe y se imprime."
   ]
  },
  {
   "cell_type": "code",
   "execution_count": 18,
   "id": "93d7677e",
   "metadata": {},
   "outputs": [
    {
     "data": {
      "text/html": [
       "<div>\n",
       "<style scoped>\n",
       "    .dataframe tbody tr th:only-of-type {\n",
       "        vertical-align: middle;\n",
       "    }\n",
       "\n",
       "    .dataframe tbody tr th {\n",
       "        vertical-align: top;\n",
       "    }\n",
       "\n",
       "    .dataframe thead th {\n",
       "        text-align: right;\n",
       "    }\n",
       "</style>\n",
       "<table border=\"1\" class=\"dataframe\">\n",
       "  <thead>\n",
       "    <tr style=\"text-align: right;\">\n",
       "      <th></th>\n",
       "      <th>Link al Post</th>\n",
       "      <th>Nombre del Usuario</th>\n",
       "      <th>Localización</th>\n",
       "      <th>Tiempo desde la publiación</th>\n",
       "      <th>Número de likes/reproducciones</th>\n",
       "      <th>Pie de foto</th>\n",
       "    </tr>\n",
       "  </thead>\n",
       "  <tbody>\n",
       "    <tr>\n",
       "      <th>0</th>\n",
       "      <td>https://www.instagram.com/p/CmUoG38ADob/</td>\n",
       "      <td>leomessiandfamily</td>\n",
       "      <td></td>\n",
       "      <td>HACE 21 HORAS</td>\n",
       "      <td>44.895 Me gusta</td>\n",
       "      <td>leomessiandfamily\\nThis is Love 💙🥺\\n\\n#messi #...</td>\n",
       "    </tr>\n",
       "    <tr>\n",
       "      <th>1</th>\n",
       "      <td>https://www.instagram.com/p/CmWczJpOTmt/</td>\n",
       "      <td>daleseleccion</td>\n",
       "      <td>Lusail Stadium</td>\n",
       "      <td>HACE 4 HORAS</td>\n",
       "      <td>2091 Me gusta</td>\n",
       "      <td>daleseleccion\\nNuestro Ángel de la guarda ❤️🇦🇷...</td>\n",
       "    </tr>\n",
       "    <tr>\n",
       "      <th>2</th>\n",
       "      <td>https://www.instagram.com/p/CmUe9GJukZl/</td>\n",
       "      <td>daleseleccion</td>\n",
       "      <td>Lusail Stadium</td>\n",
       "      <td>HACE 23 HORAS</td>\n",
       "      <td>14.996 Me gusta</td>\n",
       "      <td>daleseleccion\\nEl sueño se hizo realidad\\n\\n#m...</td>\n",
       "    </tr>\n",
       "    <tr>\n",
       "      <th>3</th>\n",
       "      <td>https://www.instagram.com/p/CmWT_WrucV-/</td>\n",
       "      <td>depoweb</td>\n",
       "      <td></td>\n",
       "      <td>HACE 6 HORAS</td>\n",
       "      <td>1521 Me gusta</td>\n",
       "      <td>depoweb\\n🤌 ANDA PA' ALLÁ, KYLIAN\\n\\n👋Luego de ...</td>\n",
       "    </tr>\n",
       "  </tbody>\n",
       "</table>\n",
       "</div>"
      ],
      "text/plain": [
       "                               Link al Post Nombre del Usuario  \\\n",
       "0  https://www.instagram.com/p/CmUoG38ADob/  leomessiandfamily   \n",
       "1  https://www.instagram.com/p/CmWczJpOTmt/      daleseleccion   \n",
       "2  https://www.instagram.com/p/CmUe9GJukZl/      daleseleccion   \n",
       "3  https://www.instagram.com/p/CmWT_WrucV-/            depoweb   \n",
       "\n",
       "     Localización Tiempo desde la publiación Número de likes/reproducciones  \\\n",
       "0                              HACE 21 HORAS                44.895 Me gusta   \n",
       "1  Lusail Stadium               HACE 4 HORAS                  2091 Me gusta   \n",
       "2  Lusail Stadium              HACE 23 HORAS                14.996 Me gusta   \n",
       "3                               HACE 6 HORAS                  1521 Me gusta   \n",
       "\n",
       "                                         Pie de foto  \n",
       "0  leomessiandfamily\\nThis is Love 💙🥺\\n\\n#messi #...  \n",
       "1  daleseleccion\\nNuestro Ángel de la guarda ❤️🇦🇷...  \n",
       "2  daleseleccion\\nEl sueño se hizo realidad\\n\\n#m...  \n",
       "3  depoweb\\n🤌 ANDA PA' ALLÁ, KYLIAN\\n\\n👋Luego de ...  "
      ]
     },
     "execution_count": 18,
     "metadata": {},
     "output_type": "execute_result"
    }
   ],
   "source": [
    "df = pd.DataFrame(list(zip(url_post,users,locations, times, likes,pie)), columns=['Link al Post','Nombre del Usuario', 'Localización', 'Tiempo desde la publiación', 'Número de likes/reproducciones','Pie de foto'])\n",
    "df"
   ]
  },
  {
   "cell_type": "markdown",
   "id": "e6bdab25",
   "metadata": {},
   "source": [
    "## **ERRORES GENERALIZADOS** \n",
    "\n",
    "En muchas ocasiones no era posible pulsar botones como los de aceptar notificaciones. Esto se debe a los tiempos de espera. Ha sido necesario jugar con estos valores hasta conseguir que nunca fallase."
   ]
  },
  {
   "cell_type": "markdown",
   "id": "6da86bec",
   "metadata": {},
   "source": [
    "Otro error que ha salido continuamente es InvalidSelectorException, como se muestra a continuación. Esto se debe a que en ocasiones el xpath especificado no es válido. Debido a los continuos fallos se decidió utilizar exclusivamente el css_selector.\n",
    "<img src=\"error4.png\">"
   ]
  },
  {
   "cell_type": "markdown",
   "id": "84983217",
   "metadata": {},
   "source": [
    "Otro aspecto a resaltar es la importancia de la eleccion de **find_element** y **find_elements**. La diferencia entre estos es la siguiente. Es importante tenerlo en cuenta ya que si no aparece el error que se muestra en la imagen inferior.\n",
    "\n",
    "- findElement: comando utilizado para identificar de forma única un elemento web dentro de la página web.\n",
    "- findElements: comando utilizado para identificar una lista de elementos web dentro de la página web."
   ]
  },
  {
   "cell_type": "markdown",
   "id": "af21043f",
   "metadata": {},
   "source": [
    "<img src=\"error6.png\">"
   ]
  }
 ],
 "metadata": {
  "kernelspec": {
   "display_name": "Python 3 (ipykernel)",
   "language": "python",
   "name": "python3"
  },
  "language_info": {
   "codemirror_mode": {
    "name": "ipython",
    "version": 3
   },
   "file_extension": ".py",
   "mimetype": "text/x-python",
   "name": "python",
   "nbconvert_exporter": "python",
   "pygments_lexer": "ipython3",
   "version": "3.9.15"
  }
 },
 "nbformat": 4,
 "nbformat_minor": 5
}

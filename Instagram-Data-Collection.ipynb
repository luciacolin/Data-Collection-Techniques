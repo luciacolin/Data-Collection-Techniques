{
 "cells": [
  {
   "cell_type": "markdown",
   "id": "f6b0a0d4",
   "metadata": {},
   "source": [
    "<img src=\"logounav.png\" width=\"150\" img style=\"float: right;\"> \n",
    "\n",
    "**Data collection from Instagram.**<br>\n",
    "Author: Lucía Colín Cosano"
   ]
  },
  {
   "cell_type": "markdown",
   "id": "bae0d32e",
   "metadata": {},
   "source": [
    "First, the necessary libraries are imported."
   ]
  },
  {
   "cell_type": "code",
   "execution_count": 7,
   "id": "8d97ffec",
   "metadata": {},
   "outputs": [],
   "source": [
    "import json\n",
    "from lxml import html\n",
    "import re\n",
    "import csv\n",
    "import numpy as np\n",
    "\n",
    "from selenium import webdriver\n",
    "import time\n",
    "import os\n",
    "import time\n",
    "import requests\n",
    "from pprint import pprint\n",
    "from bs4 import BeautifulSoup\n",
    "import pandas as pd\n",
    "\n",
    "from selenium import webdriver\n",
    "from selenium.webdriver.common.action_chains import ActionChains\n",
    "from selenium.webdriver.remote.webelement import WebElement\n",
    "from selenium.webdriver.common.by import By\n",
    "from selenium.webdriver.common.keys import Keys\n",
    "from selenium.webdriver.support import expected_conditions as EC\n",
    "from selenium.webdriver.support.ui import WebDriverWait\n",
    "from selenium.webdriver.chrome.options import Options\n",
    "from selenium.common.exceptions import (NoSuchElementException,TimeoutException,WebDriverException,)"
   ]
  },
  {
   "cell_type": "markdown",
   "id": "b22775e0",
   "metadata": {},
   "source": [
    "Configuring Chrome Driver."
   ]
  },
  {
   "cell_type": "code",
   "execution_count": 8,
   "id": "365e3b57",
   "metadata": {},
   "outputs": [
    {
     "name": "stderr",
     "output_type": "stream",
     "text": [
      "C:\\Users\\lulac\\AppData\\Local\\Temp\\ipykernel_1580\\1192129472.py:22: DeprecationWarning: executable_path has been deprecated, please pass in a Service object\n",
      "  driver = webdriver.Chrome(executable_path = executable_path,chrome_options = chrome_options,)\n",
      "C:\\Users\\lulac\\AppData\\Local\\Temp\\ipykernel_1580\\1192129472.py:22: DeprecationWarning: use options instead of chrome_options\n",
      "  driver = webdriver.Chrome(executable_path = executable_path,chrome_options = chrome_options,)\n"
     ]
    }
   ],
   "source": [
    "WAIT_TIME = 10\n",
    "\n",
    "# Chrome driver should be in\n",
    "executable_path=os.path.join('C:/Program Files/Google/Chrome/chromedriver')\n",
    "\n",
    "options = webdriver.ChromeOptions()\n",
    "options.add_argument('--ignore-certificate-errors')\n",
    "options.add_argument('--disable-notifications')\n",
    "\n",
    "preferences = {\n",
    "    \"profile.default_content_setting_values.notifications\" : 1,\n",
    "    \"profile.default_content_setting_values.location\": 1,\n",
    "    \"profile.managed_default_content_settings.images\": 1,\n",
    "    }\n",
    "options.add_experimental_option(\"prefs\", preferences)\n",
    "\n",
    "chrome_options = Options()\n",
    "chrome_options.add_argument(\"--disable-infobars\")\n",
    "chrome_options.add_argument(\"--disable-extensions\")\n",
    "chrome_options.add_argument(\"--disable-popup-blocking\")\n",
    "\n",
    "driver = webdriver.Chrome(executable_path = executable_path,chrome_options = chrome_options,)"
   ]
  },
  {
   "cell_type": "markdown",
   "id": "b67e9638",
   "metadata": {},
   "source": [
    "Sometimes, the error shown in the image below appears, which can be fixed by adding the following instruction:\n",
    "    \n",
    "driver = webdriver.Chrome(ChromeDriverManager().install())"
   ]
  },
  {
   "cell_type": "markdown",
   "id": "9ed12f9f",
   "metadata": {},
   "source": [
    "<img src=\"error1.png\">"
   ]
  },
  {
   "cell_type": "markdown",
   "id": "5b34ab19",
   "metadata": {},
   "source": [
    "The screen is maximized for better work. The number 20 defines a waiting time."
   ]
  },
  {
   "cell_type": "code",
   "execution_count": 9,
   "id": "08b4d3a8",
   "metadata": {},
   "outputs": [],
   "source": [
    "driver.maximize_window()\n",
    "driver.implicitly_wait(20) "
   ]
  },
  {
   "cell_type": "markdown",
   "id": "a1823bdb",
   "metadata": {},
   "source": [
    "Once the browser is opened, the URL from which data is to be obtained is defined. In this case, the goal is to extract data from an Instagram hashtag."
   ]
  },
  {
   "cell_type": "code",
   "execution_count": 10,
   "id": "f1d10963",
   "metadata": {},
   "outputs": [],
   "source": [
    "driver.wait = WebDriverWait(driver, WAIT_TIME)\n",
    "url = 'https://www.instagram.com/?hl=es'\n",
    "driver.get(url)"
   ]
  },
  {
   "cell_type": "markdown",
   "id": "b1510ba1",
   "metadata": {},
   "source": [
    "Once you enter Instagram, it is necessary to accept the cookies."
   ]
  },
  {
   "cell_type": "code",
   "execution_count": 11,
   "id": "3d2e7f5d",
   "metadata": {},
   "outputs": [],
   "source": [
    "cookies_button = driver.find_element(By.CSS_SELECTOR,\"button[class='_a9-- _a9_1']\")\n",
    "cookies_button.click()\n",
    "time.sleep(1)"
   ]
  },
  {
   "cell_type": "markdown",
   "id": "6b8ff48a",
   "metadata": {},
   "source": [
    "Both the username and password are defined. Some input statements are defined that could be used to ask the user to enter their credentials. In this case, they are directly written to test the functionality.\n",
    "\n",
    "The button where you need to click to enter the credentials is found, and the login process is initiated."
   ]
  },
  {
   "cell_type": "code",
   "execution_count": 12,
   "id": "11362d93",
   "metadata": {},
   "outputs": [],
   "source": [
    "USERNAME = '***' # Insert your user name and password\n",
    "PASSWORD = '***'\n",
    "\n",
    "usr = WebDriverWait(driver, WAIT_TIME).until(EC.element_to_be_clickable((By.NAME, \"username\")))\n",
    "usr.send_keys(USERNAME)\n",
    "\n",
    "password = WebDriverWait(driver, WAIT_TIME).until(EC.element_to_be_clickable((By.NAME, \"password\")))\n",
    "password.send_keys(PASSWORD)\n",
    "time.sleep(4)"
   ]
  },
  {
   "cell_type": "markdown",
   "id": "09dfb932",
   "metadata": {},
   "source": [
    "The following error is due to the definition of the functions provided by Selenium for element selection. They used to follow the format: driver.find_elements_by_css_selector, driver.find_elements_by_xpath. This library has evolved, generalizing this function to driver.find_elements() and the first argument of the function determines what type of search you want to perform.\n",
    "\n",
    "It is necessary to import from selenium.webdriver.common.by import By. Two examples of implementation are:\n",
    "\n",
    "- driver.find_element(By.CSS_SELECTOR, \"button[class='_a9-- _a9_1']\")\n",
    "- driver.find_element(By.XPATH, '//button[text()=\"._9AH\"]')"
   ]
  },
  {
   "cell_type": "markdown",
   "id": "aa4e510a",
   "metadata": {},
   "source": [
    "<img src=\"error2.png\">"
   ]
  },
  {
   "cell_type": "code",
   "execution_count": 13,
   "id": "ee821491",
   "metadata": {},
   "outputs": [],
   "source": [
    "driver.find_elements(By.CSS_SELECTOR,('button'))[1].click()\n",
    "time.sleep(2)"
   ]
  },
  {
   "cell_type": "markdown",
   "id": "317bd192",
   "metadata": {},
   "source": [
    "Once logged in, a dialog box appears asking if you want to save the information, and the \"Not Now\" button is clicked. The same is done for enabling notifications. "
   ]
  },
  {
   "cell_type": "code",
   "execution_count": 14,
   "id": "cd9dbae6",
   "metadata": {},
   "outputs": [],
   "source": [
    "WebDriverWait(driver, 10).until(EC.element_to_be_clickable((By.CSS_SELECTOR, \"button[class='_acan _acap _acas _aj1-']\")))\n",
    "guardar_info_button=driver.find_element(By.CSS_SELECTOR,\"button[class='_acan _acap _acas _aj1-']\")\n",
    "guardar_info_button.click()\n",
    "time.sleep(2)\n",
    "\n",
    "WebDriverWait(driver, 10).until(EC.element_to_be_clickable((By.CSS_SELECTOR,\"button[class='_a9-- _a9_1']\")))\n",
    "notificaciones_button=driver.find_element(By.CSS_SELECTOR,\"button[class='_a9-- _a9_1']\")\n",
    "notificaciones_button.click()\n",
    "time.sleep(5)"
   ]
  },
  {
   "cell_type": "markdown",
   "id": "823b0250",
   "metadata": {},
   "source": [
    "The desired hashtag to scrape is defined, and the Instagram search bar is located."
   ]
  },
  {
   "cell_type": "code",
   "execution_count": 15,
   "id": "d19e121f",
   "metadata": {},
   "outputs": [],
   "source": [
    "HASHTAG='#mundialqatar2022'\n",
    "\n",
    "WebDriverWait(driver, 10).until(EC.element_to_be_clickable((By.CSS_SELECTOR,\"a[href='#']\")))\n",
    "busqueda_button=driver.find_element(By.CSS_SELECTOR,\"a[href='#']\")\n",
    "busqueda_button.click()\n",
    "\n",
    "WebDriverWait(driver, 10).until(EC.element_to_be_clickable((By.CSS_SELECTOR,\"input[aria-label='Buscar entrada']\")))\n",
    "intro_hashtag=driver.find_element(By.CSS_SELECTOR,\"input[aria-label='Buscar entrada']\")\n",
    "intro_hashtag.clear()\n",
    "intro_hashtag.send_keys(HASHTAG)\n",
    "time.sleep(5)\n",
    "intro_hashtag.send_keys(Keys.ENTER)\n",
    "time.sleep(5)\n",
    "intro_hashtag.send_keys(Keys.ENTER)\n",
    "time.sleep(5)"
   ]
  },
  {
   "cell_type": "markdown",
   "id": "85c8a68b",
   "metadata": {},
   "source": [
    "Once we are on the posts corresponding to the selected hashtag, we want to obtain the link of the post, the user who posted it, the location (which is often not available), the time since the post was made, the number of likes, and finally, the caption."
   ]
  },
  {
   "cell_type": "code",
   "execution_count": 16,
   "id": "8158d063",
   "metadata": {},
   "outputs": [
    {
     "name": "stdout",
     "output_type": "stream",
     "text": [
      "45\n"
     ]
    }
   ],
   "source": [
    "enlace_post = driver.find_elements(By.TAG_NAME,'a')\n",
    "post = [i.get_attribute('href') for i in enlace_post]\n",
    "print(len(post))\n",
    "\n",
    "url_post=[]\n",
    "for i in post:\n",
    "    if '/p/' in i:\n",
    "        url_post.append(i)  "
   ]
  },
  {
   "cell_type": "markdown",
   "id": "be544bc4",
   "metadata": {},
   "source": [
    "The URLs of the obtained posts are iterated, and in the following loop, each post is accessed to retrieve the corresponding information. Additionally, the number of posts from which you want to obtain information is defined. It is recommended that this number not be very high as it would result in long waiting times."
   ]
  },
  {
   "cell_type": "code",
   "execution_count": 17,
   "id": "4dead21b",
   "metadata": {},
   "outputs": [],
   "source": [
    "users=[] #usuarios de los post\n",
    "times=[] #fecha en la que se publicó el post\n",
    "locations=[] #localizaciones de los post\n",
    "likes=[] #numero de likes\n",
    "pie=[] #pie de foto\n",
    "\n",
    "num_publi_deseadas=4\n",
    "\n",
    "#for i in url_post:\n",
    "for i in url_post[0:num_publi_deseadas]:\n",
    "\n",
    "    driver.get(i)\n",
    "    \n",
    "    #Para obtener los usuarios en una lista\n",
    "    try:\n",
    "        users.append(driver.find_element(By.CSS_SELECTOR, \"a[class='x1i10hfl xjbqb8w x6umtig x1b1mbwd xaqea5y xav7gou x9f619 x1ypdohk xt0psk2 xe8uvvx xdj266r x11i5rnm xat24cr x1mh8g0r xexx8yu x4uap5 x18d9i69 xkhd6sd x16tdsg8 x1hl2dhg xggy1nq x1a2a7pz _acan _acao _acat _acaw _aj1- _a6hd']\").text)\n",
    "    except NoSuchElementException:\n",
    "        users.append(\"Publicación no disponible\")\n",
    "        \n",
    "    #Para obtener las localizaciones en una lista    \n",
    "    try:\n",
    "        locations.append(driver.find_element(By.CSS_SELECTOR, \"a[class='x1i10hfl xjbqb8w x6umtig x1b1mbwd xaqea5y xav7gou x9f619 x1ypdohk xt0psk2 xe8uvvx xdj266r x11i5rnm xat24cr x1mh8g0r xexx8yu x4uap5 x18d9i69 xkhd6sd x16tdsg8 x1hl2dhg xggy1nq x1a2a7pz _aaqk _a6hd']\").text)\n",
    "    except:\n",
    "        locations.append(\" \")\n",
    "        \n",
    "    #Para obtener el tiempo transcurrido desde que se publicó en una lista    \n",
    "    try:\n",
    "        times.append(driver.find_element(By.CSS_SELECTOR,\"time[class='_aaqe']\").text)     \n",
    "    except:\n",
    "        times.append(\"No available\")  \n",
    "    \n",
    "    #Para obtener el número de likes que hay en cada publicación en una lista\n",
    "    try:\n",
    "        likes.append(driver.find_element(By.CSS_SELECTOR,\"div[class='_aacl _aaco _aacw _aacx _aada _aade']\").text)\n",
    "    except:\n",
    "        likes.append(' ')\n",
    "        \n",
    "    #Para obtener el pie de foto en una lista\n",
    "    try:\n",
    "        pie.append(driver.find_element(By.CSS_SELECTOR,\"div[class='_a9zr']\").text)\n",
    "    except:\n",
    "        pie.append(' ')\n",
    "    time.sleep(3)"
   ]
  },
  {
   "cell_type": "markdown",
   "id": "1f4e46a9",
   "metadata": {},
   "source": [
    "Finally, the DataFrame is created and printed."
   ]
  },
  {
   "cell_type": "code",
   "execution_count": 18,
   "id": "93d7677e",
   "metadata": {},
   "outputs": [
    {
     "data": {
      "text/html": [
       "<div>\n",
       "<style scoped>\n",
       "    .dataframe tbody tr th:only-of-type {\n",
       "        vertical-align: middle;\n",
       "    }\n",
       "\n",
       "    .dataframe tbody tr th {\n",
       "        vertical-align: top;\n",
       "    }\n",
       "\n",
       "    .dataframe thead th {\n",
       "        text-align: right;\n",
       "    }\n",
       "</style>\n",
       "<table border=\"1\" class=\"dataframe\">\n",
       "  <thead>\n",
       "    <tr style=\"text-align: right;\">\n",
       "      <th></th>\n",
       "      <th>Link al Post</th>\n",
       "      <th>Nombre del Usuario</th>\n",
       "      <th>Localización</th>\n",
       "      <th>Tiempo desde la publiación</th>\n",
       "      <th>Número de likes/reproducciones</th>\n",
       "      <th>Pie de foto</th>\n",
       "    </tr>\n",
       "  </thead>\n",
       "  <tbody>\n",
       "    <tr>\n",
       "      <th>0</th>\n",
       "      <td>https://www.instagram.com/p/CmUoG38ADob/</td>\n",
       "      <td>leomessiandfamily</td>\n",
       "      <td></td>\n",
       "      <td>HACE 21 HORAS</td>\n",
       "      <td>44.895 Me gusta</td>\n",
       "      <td>leomessiandfamily\\nThis is Love 💙🥺\\n\\n#messi #...</td>\n",
       "    </tr>\n",
       "    <tr>\n",
       "      <th>1</th>\n",
       "      <td>https://www.instagram.com/p/CmWczJpOTmt/</td>\n",
       "      <td>daleseleccion</td>\n",
       "      <td>Lusail Stadium</td>\n",
       "      <td>HACE 4 HORAS</td>\n",
       "      <td>2091 Me gusta</td>\n",
       "      <td>daleseleccion\\nNuestro Ángel de la guarda ❤️🇦🇷...</td>\n",
       "    </tr>\n",
       "    <tr>\n",
       "      <th>2</th>\n",
       "      <td>https://www.instagram.com/p/CmUe9GJukZl/</td>\n",
       "      <td>daleseleccion</td>\n",
       "      <td>Lusail Stadium</td>\n",
       "      <td>HACE 23 HORAS</td>\n",
       "      <td>14.996 Me gusta</td>\n",
       "      <td>daleseleccion\\nEl sueño se hizo realidad\\n\\n#m...</td>\n",
       "    </tr>\n",
       "    <tr>\n",
       "      <th>3</th>\n",
       "      <td>https://www.instagram.com/p/CmWT_WrucV-/</td>\n",
       "      <td>depoweb</td>\n",
       "      <td></td>\n",
       "      <td>HACE 6 HORAS</td>\n",
       "      <td>1521 Me gusta</td>\n",
       "      <td>depoweb\\n🤌 ANDA PA' ALLÁ, KYLIAN\\n\\n👋Luego de ...</td>\n",
       "    </tr>\n",
       "  </tbody>\n",
       "</table>\n",
       "</div>"
      ],
      "text/plain": [
       "                               Link al Post Nombre del Usuario  \\\n",
       "0  https://www.instagram.com/p/CmUoG38ADob/  leomessiandfamily   \n",
       "1  https://www.instagram.com/p/CmWczJpOTmt/      daleseleccion   \n",
       "2  https://www.instagram.com/p/CmUe9GJukZl/      daleseleccion   \n",
       "3  https://www.instagram.com/p/CmWT_WrucV-/            depoweb   \n",
       "\n",
       "     Localización Tiempo desde la publiación Número de likes/reproducciones  \\\n",
       "0                              HACE 21 HORAS                44.895 Me gusta   \n",
       "1  Lusail Stadium               HACE 4 HORAS                  2091 Me gusta   \n",
       "2  Lusail Stadium              HACE 23 HORAS                14.996 Me gusta   \n",
       "3                               HACE 6 HORAS                  1521 Me gusta   \n",
       "\n",
       "                                         Pie de foto  \n",
       "0  leomessiandfamily\\nThis is Love 💙🥺\\n\\n#messi #...  \n",
       "1  daleseleccion\\nNuestro Ángel de la guarda ❤️🇦🇷...  \n",
       "2  daleseleccion\\nEl sueño se hizo realidad\\n\\n#m...  \n",
       "3  depoweb\\n🤌 ANDA PA' ALLÁ, KYLIAN\\n\\n👋Luego de ...  "
      ]
     },
     "execution_count": 18,
     "metadata": {},
     "output_type": "execute_result"
    }
   ],
   "source": [
    "df = pd.DataFrame(list(zip(url_post,users,locations, times, likes,pie)), columns=['Link al Post','Nombre del Usuario', 'Localización', 'Tiempo desde la publiación', 'Número de likes/reproducciones','Pie de foto'])\n",
    "df"
   ]
  },
  {
   "cell_type": "markdown",
   "id": "e6bdab25",
   "metadata": {},
   "source": [
    "## COMMON ERRORS\n",
    "\n",
    "Often, it was not possible to click buttons like the one for accepting notifications. This is due to waiting times. It was necessary to adjust these values until it never failed."
   ]
  },
  {
   "cell_type": "markdown",
   "id": "6da86bec",
   "metadata": {},
   "source": [
    "Another error that has continuously occurred is InvalidSelectorException, as shown below. This is because sometimes the specified XPath is not valid. Due to the continuous failures, it was decided to exclusively use the CSS selector.\n",
    "<img src=\"error4.png\">"
   ]
  },
  {
   "cell_type": "markdown",
   "id": "84983217",
   "metadata": {},
   "source": [
    "Another aspect to highlight is the importance of choosing between find_element and find_elements. The difference between them is as follows. It is important to keep this in mind as it can prevent the error shown in the image below.\n",
    "\n",
    "- findElement: Command used to uniquely identify a web element within the web page.\n",
    "- findElements: Command used to identify a list of web elements within the web page."
   ]
  },
  {
   "cell_type": "markdown",
   "id": "af21043f",
   "metadata": {},
   "source": [
    "<img src=\"error6.png\">"
   ]
  }
 ],
 "metadata": {
  "kernelspec": {
   "display_name": "Python 3 (ipykernel)",
   "language": "python",
   "name": "python3"
  },
  "language_info": {
   "codemirror_mode": {
    "name": "ipython",
    "version": 3
   },
   "file_extension": ".py",
   "mimetype": "text/x-python",
   "name": "python",
   "nbconvert_exporter": "python",
   "pygments_lexer": "ipython3",
   "version": "3.11.4"
  }
 },
 "nbformat": 4,
 "nbformat_minor": 5
}
